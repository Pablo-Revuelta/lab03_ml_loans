{
 "cells": [
  {
   "cell_type": "markdown",
   "metadata": {},
   "source": [
    "# Referencias"
   ]
  },
  {
   "cell_type": "markdown",
   "metadata": {},
   "source": [
    " - pickle: https://machinelearningmastery.com/save-load-machine-learning-models-python-scikit-learn/\n",
    "     https://docs.python.org/3/library/pickle.html\n",
    " - GradientBoosting: https://www.cienciadedatos.net/documentos/py09_gradient_boosting_python.html\n",
    "     https://www.analyticsvidhya.com/blog/2016/02/complete-guide-parameter-tuning-gradient-boosting-gbm-python/\n",
    "     https://xgboost.readthedocs.io/en/latest/\n",
    "     \n",
    " - Random Forest: https://scikit-learn.org/stable/modules/generated/sklearn.ensemble.RandomForestClassifier.html\n",
    " - Pipelines: https://scikit-learn.org/stable/modules/generated/sklearn.preprocessing.OneHotEncoder.html\n",
    "     https://scikit-learn.org/stable/modules/compose.html#combining-estimators\n",
    "     https://scikit-learn.org/stable/modules/generated/sklearn.impute.IterativeImputer.html#sklearn.impute.IterativeImputer\n",
    " - https://sci2s.ugr.es/imbalanced#Software,%20Algorithm%20Implementations%20and%20Dataset%20Repository\n",
    " - https://towardsdatascience.com/beyond-accuracy-precision-and-recall-3da06bea9f6c\n",
    " - "
   ]
  }
 ],
 "metadata": {
  "kernelspec": {
   "display_name": "loan_env",
   "language": "python",
   "name": "loan_env"
  },
  "language_info": {
   "codemirror_mode": {
    "name": "ipython",
    "version": 3
   },
   "file_extension": ".py",
   "mimetype": "text/x-python",
   "name": "python",
   "nbconvert_exporter": "python",
   "pygments_lexer": "ipython3",
   "version": "3.7.8"
  }
 },
 "nbformat": 4,
 "nbformat_minor": 4
}

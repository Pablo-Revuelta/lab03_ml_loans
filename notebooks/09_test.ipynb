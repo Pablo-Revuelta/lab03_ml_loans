{
 "cells": [
  {
   "cell_type": "markdown",
   "metadata": {},
   "source": [
    "# Modelo TEST"
   ]
  },
  {
   "cell_type": "markdown",
   "metadata": {},
   "source": [
    "## Carga de datos y librerias"
   ]
  },
  {
   "cell_type": "code",
   "execution_count": null,
   "metadata": {},
   "outputs": [],
   "source": [
    "import pandas as pd\n",
    "import numpy as np\n",
    "from sklearn.pipeline import Pipeline\n",
    "from sklearn.impute import SimpleImputer\n",
    "from sklearn.preprocessing import StandardScaler, OneHotEncoder\n",
    "from sklearn.compose import ColumnTransformer\n",
    "import xgboost as xgb\n",
    "import pickle\n",
    "from sklearn.model_selection import GridSearchCV\n",
    "from sklearn.model_selection import ParameterGrid"
   ]
  },
  {
   "cell_type": "code",
   "execution_count": null,
   "metadata": {},
   "outputs": [],
   "source": [
    "pathfile = ''"
   ]
  },
  {
   "cell_type": "code",
   "execution_count": null,
   "metadata": {},
   "outputs": [],
   "source": [
    "loans = pd.read_csv(pathfile1, header = 1, skipfooter = 2, engine = 'python')"
   ]
  },
  {
   "cell_type": "markdown",
   "metadata": {},
   "source": [
    "## Limpieza datos"
   ]
  },
  {
   "cell_type": "code",
   "execution_count": null,
   "metadata": {},
   "outputs": [],
   "source": [
    "loans = loans.duplicated(keep = False)"
   ]
  },
  {
   "cell_type": "code",
   "execution_count": null,
   "metadata": {},
   "outputs": [],
   "source": [
    "duplicated = loans.duplicated()\n",
    "duplicated_true = duplicated[duplicated == 'True']\n",
    "duplicated_true.count()"
   ]
  },
  {
   "cell_type": "code",
   "execution_count": null,
   "metadata": {},
   "outputs": [],
   "source": [
    "loans_descarte_1 = loans.loc[:, ['funded_amnt', 'funded_amnt_inv', 'last_fico_range_high', 'member_id', 'last_fico_range_low', 'id', 'issue_d', 'last_credit_pull_d', 'last_pymnt_amnt', 'last_pymnt_d', 'loan_amnt', 'next_pymnt_d', 'out_prncp', 'out_prncp_inv', 'pymnt_plan', 'recoveries', 'sub_grade', 'total_pymnt', 'total_pymnt_inv', 'total_rec_int', 'total_rec_late_fee', 'total_rec_prncp', 'url', 'hardship_type', 'deferral_term', 'hardship_amount', 'hardship_start_date', 'hardship_end_date', 'payment_plan_start_date', 'hardship_length', 'hardship_dpd', 'hardship_loan_status', 'orig_projected_additional_accrued_interest', 'hardship_payoff_balance_amount', 'hardship_last_payment_amount', 'disbursement_method', 'debt_settlement_flag', 'debt_settlement_flag_date', 'settlement_status', 'settlement_date', 'settlement_amount', 'settlement_percentage', 'settlement_term', 'hardship_flag', 'hardship_reason', 'hardship_status', 'collection_recovery_fee']]\n",
    "list(loans_descarte_1)"
   ]
  },
  {
   "cell_type": "code",
   "execution_count": null,
   "metadata": {},
   "outputs": [],
   "source": [
    "loans_1 = loans.drop(loans_descarte_1, axis = 1)\n",
    "list(loans_1)"
   ]
  },
  {
   "cell_type": "code",
   "execution_count": null,
   "metadata": {},
   "outputs": [],
   "source": [
    "loans_descarte_relevancia = loans_1.loc[:, ['int_rate', 'emp_title', 'zip_code']]\n",
    "loans_1 = loans_1.drop(loans_descarte_relevancia, axis = 1)"
   ]
  },
  {
   "cell_type": "code",
   "execution_count": null,
   "metadata": {},
   "outputs": [],
   "source": [
    "loans_1['fico_avg'] = (loans_1['fico_range_high'] + loans_1['fico_range_low']) / 2"
   ]
  },
  {
   "cell_type": "code",
   "execution_count": null,
   "metadata": {},
   "outputs": [],
   "source": [
    "descarte_fico = loans_1.loc[:, ['fico_range_high', 'fico_range_low']]\n",
    "loans_1 = loans_1.drop(descarte_fico, axis = 1)"
   ]
  },
  {
   "cell_type": "code",
   "execution_count": null,
   "metadata": {},
   "outputs": [],
   "source": [
    "loans_1 = loans_1[loans_1.loan_status != 'Current']\n",
    "loans_1[loans_1.loan_status == 'Current']"
   ]
  },
  {
   "cell_type": "code",
   "execution_count": null,
   "metadata": {},
   "outputs": [],
   "source": [
    "loans_1['loan_status'].unique()"
   ]
  },
  {
   "cell_type": "code",
   "execution_count": null,
   "metadata": {},
   "outputs": [],
   "source": [
    "loan_status_dummy = map(lambda x: 1 if x == 'Fully Paid' else 0, loans_1.loan_status)\n",
    "loans_1['loan_status'] = list(loan_status_dummy)\n",
    "loans_1['loan_status'] = loans_1['loan_status'].astype(float)"
   ]
  },
  {
   "cell_type": "code",
   "execution_count": null,
   "metadata": {},
   "outputs": [],
   "source": [
    "loans_1['loan_status'].unique()"
   ]
  },
  {
   "cell_type": "markdown",
   "metadata": {},
   "source": [
    "# División en dos datasets"
   ]
  },
  {
   "cell_type": "code",
   "execution_count": null,
   "metadata": {},
   "outputs": [],
   "source": [
    "loans_joint = loans_1[loans_1.application_type == 'Joint App']\n",
    "loans_ind = loans_1[loans_1.application_type == 'Individual']"
   ]
  },
  {
   "cell_type": "markdown",
   "metadata": {},
   "source": [
    "# Individual"
   ]
  },
  {
   "cell_type": "code",
   "execution_count": null,
   "metadata": {},
   "outputs": [],
   "source": [
    "loans_descarte_joint = loans_1.loc[:, ['dti_joint', 'annual_inc_joint', 'verification_status_joint', 'sec_app_mths_since_last_major_derog', 'sec_app_revol_util', 'sec_app_inq_last_6mths', 'sec_app_collections_12_mths_ex_med', 'revol_bal_joint', 'sec_app_fico_range_low', 'sec_app_earliest_cr_line', 'sec_app_fico_range_high', 'sec_app_mort_acc', 'sec_app_open_acc', 'sec_app_open_act_il', 'sec_app_num_rev_accts', 'sec_app_chargeoff_within_12_mths']]\n",
    "list(loans_descarte_joint)"
   ]
  },
  {
   "cell_type": "code",
   "execution_count": null,
   "metadata": {},
   "outputs": [],
   "source": [
    "loans_ind = loans_ind.drop(loans_descarte_joint, axis = 1)\n",
    "list(loans_ind)"
   ]
  },
  {
   "cell_type": "code",
   "execution_count": null,
   "metadata": {},
   "outputs": [],
   "source": [
    "loans_descarte_2 = loans_1.loc[:, ['il_util', 'mths_since_rcnt_il', 'all_util', 'open_rv_24m', 'open_acc_6m', 'open_act_il', 'open_il_12m', 'open_il_24m', 'total_bal_il', 'max_bal_bc', 'inq_fi', 'total_cu_tl', 'inq_last_12m', 'open_rv_12m', 'mths_since_recent_bc_dlq', 'mths_since_recent_revol_delinq', 'desc', 'mths_since_last_record', 'mths_since_last_major_derog']]\n",
    "list(loans_descarte_2)"
   ]
  },
  {
   "cell_type": "code",
   "execution_count": null,
   "metadata": {},
   "outputs": [],
   "source": [
    "loans_ind = loans_ind.drop(loans_descarte_2, axis = 1)\n",
    "list(loans_ind)"
   ]
  },
  {
   "cell_type": "code",
   "execution_count": null,
   "metadata": {},
   "outputs": [],
   "source": [
    "split_term = map(lambda x: x.split(' ')[1], loans_ind.term)\n",
    "loans_ind.term = list(split_term)\n",
    "loans_ind['term'] = loans_ind['term'].astype(float)"
   ]
  },
  {
   "cell_type": "code",
   "execution_count": null,
   "metadata": {},
   "outputs": [],
   "source": [
    "loans_ind['revol_util'] = loans_ind.revol_util.str.strip('%').astype(float)\n",
    "loans_ind['earliest_cr_line'] = pd.to_datetime(loans_ind['earliest_cr_line'])"
   ]
  },
  {
   "cell_type": "code",
   "execution_count": null,
   "metadata": {},
   "outputs": [],
   "source": [
    "loans_ind['emp_length'] = loans_ind.emp_length.str.strip('<')\n",
    "loans_ind['emp_length'] = loans_ind.emp_length.str.strip('+ years')\n",
    "loans_ind['emp_length'] = loans_ind['emp_length'].astype('float')"
   ]
  },
  {
   "cell_type": "code",
   "execution_count": null,
   "metadata": {},
   "outputs": [],
   "source": [
    "def delinq_range(x):\n",
    "    if x <= 12:\n",
    "        return 10\n",
    "    elif x <= 24:\n",
    "        return 9\n",
    "    elif x <= 36:\n",
    "        return 8\n",
    "    elif x <= 48:\n",
    "        return 7\n",
    "    elif x <= 60:\n",
    "        return 6\n",
    "    elif x <= 72:\n",
    "        return 5\n",
    "    elif x <= 84:\n",
    "        return 4\n",
    "    elif x <= 96:\n",
    "        return 3\n",
    "    elif x <= 108:\n",
    "        return 2\n",
    "    elif x > 108:\n",
    "        return 1\n",
    "    else:\n",
    "        return 0"
   ]
  },
  {
   "cell_type": "code",
   "execution_count": null,
   "metadata": {},
   "outputs": [],
   "source": [
    "loans_ind['mths_since_last_delinq'] = loans_ind.mths_since_last_delinq.map(delinq_range)\n",
    "\n",
    "loans_ind['mths_since_last_delinq']"
   ]
  },
  {
   "cell_type": "code",
   "execution_count": null,
   "metadata": {},
   "outputs": [],
   "source": [
    "descarte_valores_unicos = ['delinq_2yrs', 'pub_rec', 'collections_12_mths_ex_med', 'policy_code', 'acc_now_delinq', 'tot_coll_amt', 'chargeoff_within_12_mths', 'delinq_amnt', 'num_accts_ever_120_pd', 'num_tl_120dpd_2m', 'num_tl_30dpd', 'num_tl_90g_dpd_24m', 'tax_liens']\n",
    "loans_ind = loans_ind.drop(descarte_valores_unicos, axis = 1)"
   ]
  },
  {
   "cell_type": "code",
   "execution_count": null,
   "metadata": {},
   "outputs": [],
   "source": [
    "descarte_cor = ['num_bc_tl', 'num_bc_sats', 'num_rev_tl_bal_gt_0', 'num_op_rev_tl', 'num_bc_sats']\n",
    "loans_ind = loans_ind.drop(descarte_cor, axis = 1)"
   ]
  },
  {
   "cell_type": "code",
   "execution_count": null,
   "metadata": {},
   "outputs": [],
   "source": [
    "loans_ind['loan_status'].value_counts()"
   ]
  },
  {
   "cell_type": "markdown",
   "metadata": {},
   "source": [
    "# Joint"
   ]
  },
  {
   "cell_type": "code",
   "execution_count": null,
   "metadata": {},
   "outputs": [],
   "source": [
    "loans_descartes_joint_na = loans_joint.loc[:,['sec_app_mths_since_last_major_derog', 'mths_since_recent_bc_dlq', 'mths_since_recent_revol_delinq', 'desc', 'mths_since_last_record', 'mths_since_last_record', 'mths_since_last_major_derog']]"
   ]
  },
  {
   "cell_type": "code",
   "execution_count": null,
   "metadata": {},
   "outputs": [],
   "source": [
    "loans_joint = loans_joint.drop(loans_descartes_joint_na, axis = 1)\n",
    "loans_joint"
   ]
  },
  {
   "cell_type": "code",
   "execution_count": null,
   "metadata": {},
   "outputs": [],
   "source": [
    "split_term = map(lambda x: x.split(' ')[1], loans_joint.term)\n",
    "loans_joint.term = list(split_term)\n",
    "loans_joint['term'] = loans_joint['term'].astype(float)"
   ]
  },
  {
   "cell_type": "code",
   "execution_count": null,
   "metadata": {},
   "outputs": [],
   "source": [
    "loans_joint['revol_util'] = loans_joint.revol_util.str.strip('%').astype(float)\n",
    "loans_joint['earliest_cr_line'] = pd.to_datetime(loans_joint['earliest_cr_line'])"
   ]
  },
  {
   "cell_type": "code",
   "execution_count": null,
   "metadata": {},
   "outputs": [],
   "source": [
    "loans_joint['emp_length'] = loans_joint.emp_length.str.strip('<')\n",
    "loans_joint['emp_length'] = loans_joint.emp_length.str.strip('+ years')\n",
    "loans_joint['emp_length'] = loans_joint['emp_length'].astype('float')"
   ]
  },
  {
   "cell_type": "code",
   "execution_count": null,
   "metadata": {},
   "outputs": [],
   "source": [
    "def delinq_range(x):\n",
    "    if x <= 12:\n",
    "        return 10\n",
    "    elif x <= 24:\n",
    "        return 9\n",
    "    elif x <= 36:\n",
    "        return 8\n",
    "    elif x <= 48:\n",
    "        return 7\n",
    "    elif x <= 60:\n",
    "        return 6\n",
    "    elif x <= 72:\n",
    "        return 5\n",
    "    elif x <= 84:\n",
    "        return 4\n",
    "    elif x <= 96:\n",
    "        return 3\n",
    "    elif x <= 108:\n",
    "        return 2\n",
    "    elif x > 108:\n",
    "        return 1\n",
    "    else:\n",
    "        return 0"
   ]
  },
  {
   "cell_type": "code",
   "execution_count": null,
   "metadata": {},
   "outputs": [],
   "source": [
    "loans_joint['mths_since_last_delinq'] = loans_joint.mths_since_last_delinq.map(delinq_range)\n",
    "\n",
    "loans_joint['mths_since_last_delinq']"
   ]
  },
  {
   "cell_type": "code",
   "execution_count": null,
   "metadata": {},
   "outputs": [],
   "source": [
    "loans_joint_descartes_2 = loans_joint.loc[:, ['collections_12_mths_ex_med', 'policy_code', 'acc_now_delinq', 'tot_coll_amt', 'num_tl_30dpd', 'num_tl_90g_dpd_24m']]"
   ]
  },
  {
   "cell_type": "code",
   "execution_count": null,
   "metadata": {},
   "outputs": [],
   "source": [
    "loans_joint = loans_joint.drop(loans_joint_descartes_2, axis = 1)\n",
    "list(loans_joint)"
   ]
  },
  {
   "cell_type": "code",
   "execution_count": null,
   "metadata": {},
   "outputs": [],
   "source": [
    "joint_descartes_3 = loans_joint.loc[:,['num_bc_sats', 'num_op_rev_tl', 'num_rev_tl_bal_gt_0']]"
   ]
  },
  {
   "cell_type": "code",
   "execution_count": null,
   "metadata": {},
   "outputs": [],
   "source": [
    "loans_joint = loans_joint.drop(joint_descartes_3, axis = 1)"
   ]
  },
  {
   "cell_type": "markdown",
   "metadata": {},
   "source": [
    "# Test individual"
   ]
  },
  {
   "cell_type": "markdown",
   "metadata": {},
   "source": [
    "# Carga del modelo"
   ]
  },
  {
   "cell_type": "code",
   "execution_count": null,
   "metadata": {},
   "outputs": [],
   "source": [
    "model_ind = pickle.load(open('model_xgboost.sav', 'rb'))"
   ]
  },
  {
   "cell_type": "markdown",
   "metadata": {},
   "source": [
    "# Preparación del modelo"
   ]
  },
  {
   "cell_type": "code",
   "execution_count": null,
   "metadata": {},
   "outputs": [],
   "source": [
    "y = loans_ind['loan_status']\n",
    "x = loans_ind.drop('loan_status', axis = 1)\n",
    "x_list = list(x.columns)"
   ]
  },
  {
   "cell_type": "code",
   "execution_count": null,
   "metadata": {},
   "outputs": [],
   "source": [
    "numeric_transformer_0 = Pipeline(steps = [\n",
    "    ('imputer_0', SimpleImputer(strategy = 'constant')),\n",
    "    ('escalar', StandardScaler())\n",
    "])\n",
    "\n",
    "numeric_transformer_median = Pipeline(steps = [\n",
    "    ('imputer_median', SimpleImputer(strategy = 'median')),\n",
    "    ('escalar1', StandardScaler())\n",
    "])\n",
    "\n",
    "categoric_transformer  = Pipeline(steps = [\n",
    "    ('imputer', SimpleImputer(strategy = 'constant', fill_value = 'sin_info')),\n",
    "    ('onehot', OneHotEncoder(handle_unknown = 'ignore')) # mirar esto de handle_unknowns\n",
    "])"
   ]
  },
  {
   "cell_type": "code",
   "execution_count": null,
   "metadata": {},
   "outputs": [],
   "source": [
    "numeric_features_0 = x.loc[:, ['bc_open_to_buy', 'mths_since_recent_bc', 'revol_util', 'emp_length', 'term', 'installment', 'annual_inc', 'inq_last_6mths',\n",
    "                                      'mths_since_last_delinq', 'open_acc', 'revol_bal', 'total_acc', 'tot_cur_bal', 'acc_open_past_24mths',\n",
    "                                       'mo_sin_old_il_acct', 'mo_sin_old_rev_tl_op',\n",
    "                                      'mo_sin_rcnt_rev_tl_op', 'mo_sin_rcnt_tl', 'mort_acc', 'mths_since_recent_inq', 'num_actv_rev_tl',\n",
    "                                       'num_sats', 'num_tl_op_past_12m', 'pct_tl_nvr_dlq', 'pub_rec_bankruptcies', 'tot_hi_cred_lim',\n",
    "                                      'total_bal_ex_mort', 'total_bc_limit', 'total_il_high_credit_limit', 'fico_avg']].columns\n",
    "\n",
    "numeric_features_median = x.loc[:, ['percent_bc_gt_75',\n",
    "                                            'bc_util',\n",
    "                                            'avg_cur_bal',\n",
    "                                            'num_rev_accts',\n",
    "                                            'dti']].columns\n",
    "\n",
    "\n",
    "categoric_features = x.select_dtypes(include = ['object']).columns"
   ]
  },
  {
   "cell_type": "code",
   "execution_count": null,
   "metadata": {},
   "outputs": [],
   "source": [
    "preprocessor = ColumnTransformer(\n",
    "        transformers = [\n",
    "            ('num_0', numeric_transformer_0, numeric_features_0),\n",
    "            ('num_median', numeric_transformer_median, numeric_features_median),\n",
    "            ('cat', categoric_transformer, categoric_features)\n",
    "        ]\n",
    ")"
   ]
  },
  {
   "cell_type": "markdown",
   "metadata": {},
   "source": [
    "# Ejecución del modelo"
   ]
  },
  {
   "cell_type": "code",
   "execution_count": null,
   "metadata": {},
   "outputs": [],
   "source": [
    "xgboost = Pipeline(steps=[('preprocessor', preprocessor),\n",
    "                     ('classifier', model_ind())\n",
    "                    ])"
   ]
  },
  {
   "cell_type": "code",
   "execution_count": null,
   "metadata": {},
   "outputs": [],
   "source": [
    "xgboost.predict(x, y)"
   ]
  },
  {
   "cell_type": "code",
   "execution_count": null,
   "metadata": {},
   "outputs": [],
   "source": [
    "print(\"model score: %.3f\" % xgboost.score(x, y))"
   ]
  },
  {
   "cell_type": "code",
   "execution_count": null,
   "metadata": {},
   "outputs": [],
   "source": []
  },
  {
   "cell_type": "code",
   "execution_count": null,
   "metadata": {},
   "outputs": [],
   "source": []
  },
  {
   "cell_type": "markdown",
   "metadata": {},
   "source": [
    "# Test joint"
   ]
  },
  {
   "cell_type": "markdown",
   "metadata": {},
   "source": [
    "# Carga del modelo"
   ]
  },
  {
   "cell_type": "code",
   "execution_count": null,
   "metadata": {},
   "outputs": [],
   "source": [
    "model_joint = pickle.load(open('model_xgboost_joint.sav', 'rb'))"
   ]
  },
  {
   "cell_type": "code",
   "execution_count": null,
   "metadata": {},
   "outputs": [],
   "source": [
    "y_joint = loans_joint['loan_status']\n",
    "x_joint = loans_joint.drop('loan_status', axis = 1)"
   ]
  },
  {
   "cell_type": "markdown",
   "metadata": {},
   "source": [
    "# Preparación del modelo"
   ]
  },
  {
   "cell_type": "code",
   "execution_count": null,
   "metadata": {},
   "outputs": [],
   "source": [
    "numeric_transformer_0_joint = Pipeline(steps = [\n",
    "    ('imputer_0_joint', SimpleImputer(strategy = 'constant')),\n",
    "    ('escalar_joint', StandardScaler())\n",
    "])\n",
    "\n",
    "\n",
    "categoric_transformer_joint  = Pipeline(steps = [\n",
    "    ('imputer_joint', SimpleImputer(strategy = 'constant', fill_value = 'sin_info')),\n",
    "    ('onehot_joint', OneHotEncoder(handle_unknown = 'ignore')) # mirar esto de handle_unknowns\n",
    "])"
   ]
  },
  {
   "cell_type": "code",
   "execution_count": null,
   "metadata": {},
   "outputs": [],
   "source": [
    "numeric_features_0_joint = x_joint.select_dtypes(include=['int64', 'float64']).columns\n",
    "\n",
    "categoric_features_joint = x_joint.select_dtypes(include = ['object']).columns"
   ]
  },
  {
   "cell_type": "code",
   "execution_count": null,
   "metadata": {},
   "outputs": [],
   "source": [
    "preprocessor_joint = ColumnTransformer(\n",
    "        transformers = [\n",
    "            ('num_0_joint', numeric_transformer_0_joint, numeric_features_0_joint),\n",
    "            ('cat_joint', categoric_transformer_joint, categoric_features_joint)\n",
    "        ]\n",
    ")"
   ]
  },
  {
   "cell_type": "markdown",
   "metadata": {},
   "source": [
    "# Ejecución del modelo"
   ]
  },
  {
   "cell_type": "code",
   "execution_count": null,
   "metadata": {},
   "outputs": [],
   "source": [
    "xgboost_joint = Pipeline(steps=[('preprocessor_joint', preprocessor_joint),\n",
    "                     ('classifier_joint', model_joint())\n",
    "                    ])"
   ]
  },
  {
   "cell_type": "code",
   "execution_count": null,
   "metadata": {},
   "outputs": [],
   "source": [
    "xgboost_joint.predict(x, y)"
   ]
  },
  {
   "cell_type": "code",
   "execution_count": null,
   "metadata": {},
   "outputs": [],
   "source": [
    "print(\"model score: %.3f\" % xgboost_joint.score(x, y))"
   ]
  }
 ],
 "metadata": {
  "kernelspec": {
   "display_name": "loan_env",
   "language": "python",
   "name": "loan_env"
  },
  "language_info": {
   "codemirror_mode": {
    "name": "ipython",
    "version": 3
   },
   "file_extension": ".py",
   "mimetype": "text/x-python",
   "name": "python",
   "nbconvert_exporter": "python",
   "pygments_lexer": "ipython3",
   "version": "3.7.8"
  }
 },
 "nbformat": 4,
 "nbformat_minor": 4
}

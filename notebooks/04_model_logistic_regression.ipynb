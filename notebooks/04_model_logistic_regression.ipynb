{
 "cells": [
  {
   "cell_type": "markdown",
   "metadata": {},
   "source": [
    "# Modelo Logic Regression\n",
    "\n",
    "### Autores: Matías Corredoira de Soto y Pablo Revuelta Stobbs"
   ]
  },
  {
   "cell_type": "code",
   "execution_count": 54,
   "metadata": {},
   "outputs": [],
   "source": [
    "import pandas as pd\n",
    "import numpy as np\n",
    "import matplotlib.pyplot as plt\n",
    "from sklearn.pipeline import Pipeline\n",
    "from sklearn.impute import SimpleImputer\n",
    "from sklearn.preprocessing import StandardScaler, OneHotEncoder\n",
    "from sklearn.compose import ColumnTransformer\n",
    "from sklearn.linear_model import LogisticRegression\n",
    "import pickle\n",
    "from sklearn.model_selection import GridSearchCV\n",
    "from sklearn.model_selection import ParameterGrid\n",
    "from sklearn.metrics import classification_report, confusion_matrix, ConfusionMatrixDisplay, precision_recall_curve, auc, recall_score, roc_auc_score, plot_precision_recall_curve\n",
    "import sklearn.metrics as metrics\n",
    "from sklearn.metrics import roc_curve\n",
    "from sklearn.metrics import RocCurveDisplay\n",
    "from sklearn.metrics import precision_recall_curve\n",
    "import scikitplot as skplt\n",
    "import shap"
   ]
  },
  {
   "cell_type": "code",
   "execution_count": 2,
   "metadata": {},
   "outputs": [],
   "source": [
    "pathfile1 = '../data/loans_ind_clean.csv'"
   ]
  },
  {
   "cell_type": "code",
   "execution_count": 3,
   "metadata": {},
   "outputs": [
    {
     "data": {
      "text/html": [
       "<div>\n",
       "<style scoped>\n",
       "    .dataframe tbody tr th:only-of-type {\n",
       "        vertical-align: middle;\n",
       "    }\n",
       "\n",
       "    .dataframe tbody tr th {\n",
       "        vertical-align: top;\n",
       "    }\n",
       "\n",
       "    .dataframe thead th {\n",
       "        text-align: right;\n",
       "    }\n",
       "</style>\n",
       "<table border=\"1\" class=\"dataframe\">\n",
       "  <thead>\n",
       "    <tr style=\"text-align: right;\">\n",
       "      <th></th>\n",
       "      <th>term</th>\n",
       "      <th>installment</th>\n",
       "      <th>grade</th>\n",
       "      <th>emp_length</th>\n",
       "      <th>home_ownership</th>\n",
       "      <th>annual_inc</th>\n",
       "      <th>verification_status</th>\n",
       "      <th>loan_status</th>\n",
       "      <th>purpose</th>\n",
       "      <th>title</th>\n",
       "      <th>...</th>\n",
       "      <th>num_sats</th>\n",
       "      <th>num_tl_op_past_12m</th>\n",
       "      <th>pct_tl_nvr_dlq</th>\n",
       "      <th>percent_bc_gt_75</th>\n",
       "      <th>pub_rec_bankruptcies</th>\n",
       "      <th>tot_hi_cred_lim</th>\n",
       "      <th>total_bal_ex_mort</th>\n",
       "      <th>total_bc_limit</th>\n",
       "      <th>total_il_high_credit_limit</th>\n",
       "      <th>fico_avg</th>\n",
       "    </tr>\n",
       "  </thead>\n",
       "  <tbody>\n",
       "    <tr>\n",
       "      <th>0</th>\n",
       "      <td>36.0</td>\n",
       "      <td>359.26</td>\n",
       "      <td>A</td>\n",
       "      <td>6.0</td>\n",
       "      <td>OWN</td>\n",
       "      <td>153000.0</td>\n",
       "      <td>Not Verified</td>\n",
       "      <td>1.0</td>\n",
       "      <td>credit_card</td>\n",
       "      <td>Credit card refinancing</td>\n",
       "      <td>...</td>\n",
       "      <td>20</td>\n",
       "      <td>2</td>\n",
       "      <td>95.7</td>\n",
       "      <td>11.1</td>\n",
       "      <td>1</td>\n",
       "      <td>528172</td>\n",
       "      <td>100865</td>\n",
       "      <td>28100</td>\n",
       "      <td>120572</td>\n",
       "      <td>722.0</td>\n",
       "    </tr>\n",
       "    <tr>\n",
       "      <th>1</th>\n",
       "      <td>36.0</td>\n",
       "      <td>285.70</td>\n",
       "      <td>E</td>\n",
       "      <td>2.0</td>\n",
       "      <td>RENT</td>\n",
       "      <td>50000.0</td>\n",
       "      <td>Source Verified</td>\n",
       "      <td>1.0</td>\n",
       "      <td>debt_consolidation</td>\n",
       "      <td>Debt consolidation</td>\n",
       "      <td>...</td>\n",
       "      <td>4</td>\n",
       "      <td>0</td>\n",
       "      <td>80.0</td>\n",
       "      <td>100.0</td>\n",
       "      <td>0</td>\n",
       "      <td>7600</td>\n",
       "      <td>5588</td>\n",
       "      <td>3600</td>\n",
       "      <td>4000</td>\n",
       "      <td>687.0</td>\n",
       "    </tr>\n",
       "    <tr>\n",
       "      <th>2</th>\n",
       "      <td>36.0</td>\n",
       "      <td>232.79</td>\n",
       "      <td>A</td>\n",
       "      <td>7.0</td>\n",
       "      <td>MORTGAGE</td>\n",
       "      <td>110000.0</td>\n",
       "      <td>Not Verified</td>\n",
       "      <td>1.0</td>\n",
       "      <td>debt_consolidation</td>\n",
       "      <td>Debt consolidation</td>\n",
       "      <td>...</td>\n",
       "      <td>19</td>\n",
       "      <td>3</td>\n",
       "      <td>100.0</td>\n",
       "      <td>8.3</td>\n",
       "      <td>0</td>\n",
       "      <td>350617</td>\n",
       "      <td>45955</td>\n",
       "      <td>83700</td>\n",
       "      <td>32239</td>\n",
       "      <td>712.0</td>\n",
       "    </tr>\n",
       "    <tr>\n",
       "      <th>3</th>\n",
       "      <td>60.0</td>\n",
       "      <td>243.29</td>\n",
       "      <td>C</td>\n",
       "      <td>7.0</td>\n",
       "      <td>RENT</td>\n",
       "      <td>51979.0</td>\n",
       "      <td>Source Verified</td>\n",
       "      <td>1.0</td>\n",
       "      <td>debt_consolidation</td>\n",
       "      <td>Debt consolidation</td>\n",
       "      <td>...</td>\n",
       "      <td>15</td>\n",
       "      <td>3</td>\n",
       "      <td>100.0</td>\n",
       "      <td>0.0</td>\n",
       "      <td>2</td>\n",
       "      <td>34200</td>\n",
       "      <td>10956</td>\n",
       "      <td>18800</td>\n",
       "      <td>5500</td>\n",
       "      <td>692.0</td>\n",
       "    </tr>\n",
       "    <tr>\n",
       "      <th>4</th>\n",
       "      <td>36.0</td>\n",
       "      <td>492.34</td>\n",
       "      <td>C</td>\n",
       "      <td>7.0</td>\n",
       "      <td>MORTGAGE</td>\n",
       "      <td>75000.0</td>\n",
       "      <td>Verified</td>\n",
       "      <td>1.0</td>\n",
       "      <td>debt_consolidation</td>\n",
       "      <td>Debt consolidation</td>\n",
       "      <td>...</td>\n",
       "      <td>4</td>\n",
       "      <td>3</td>\n",
       "      <td>90.0</td>\n",
       "      <td>100.0</td>\n",
       "      <td>0</td>\n",
       "      <td>170591</td>\n",
       "      <td>27684</td>\n",
       "      <td>3000</td>\n",
       "      <td>30321</td>\n",
       "      <td>687.0</td>\n",
       "    </tr>\n",
       "  </tbody>\n",
       "</table>\n",
       "<p>5 rows × 48 columns</p>\n",
       "</div>"
      ],
      "text/plain": [
       "   term  installment grade  emp_length home_ownership  annual_inc  \\\n",
       "0  36.0       359.26     A         6.0            OWN    153000.0   \n",
       "1  36.0       285.70     E         2.0           RENT     50000.0   \n",
       "2  36.0       232.79     A         7.0       MORTGAGE    110000.0   \n",
       "3  60.0       243.29     C         7.0           RENT     51979.0   \n",
       "4  36.0       492.34     C         7.0       MORTGAGE     75000.0   \n",
       "\n",
       "  verification_status  loan_status             purpose  \\\n",
       "0        Not Verified          1.0         credit_card   \n",
       "1     Source Verified          1.0  debt_consolidation   \n",
       "2        Not Verified          1.0  debt_consolidation   \n",
       "3     Source Verified          1.0  debt_consolidation   \n",
       "4            Verified          1.0  debt_consolidation   \n",
       "\n",
       "                     title  ... num_sats  num_tl_op_past_12m pct_tl_nvr_dlq  \\\n",
       "0  Credit card refinancing  ...       20                   2           95.7   \n",
       "1       Debt consolidation  ...        4                   0           80.0   \n",
       "2       Debt consolidation  ...       19                   3          100.0   \n",
       "3       Debt consolidation  ...       15                   3          100.0   \n",
       "4       Debt consolidation  ...        4                   3           90.0   \n",
       "\n",
       "   percent_bc_gt_75  pub_rec_bankruptcies  tot_hi_cred_lim  total_bal_ex_mort  \\\n",
       "0              11.1                     1           528172             100865   \n",
       "1             100.0                     0             7600               5588   \n",
       "2               8.3                     0           350617              45955   \n",
       "3               0.0                     2            34200              10956   \n",
       "4             100.0                     0           170591              27684   \n",
       "\n",
       "   total_bc_limit  total_il_high_credit_limit fico_avg  \n",
       "0           28100                      120572    722.0  \n",
       "1            3600                        4000    687.0  \n",
       "2           83700                       32239    712.0  \n",
       "3           18800                        5500    692.0  \n",
       "4            3000                       30321    687.0  \n",
       "\n",
       "[5 rows x 48 columns]"
      ]
     },
     "execution_count": 3,
     "metadata": {},
     "output_type": "execute_result"
    }
   ],
   "source": [
    "loans_ind = pd.read_csv(pathfile1, engine = 'python')\n",
    "loans_ind.head()"
   ]
  },
  {
   "cell_type": "code",
   "execution_count": 55,
   "metadata": {},
   "outputs": [],
   "source": [
    "y = loans_ind['loan_status']\n",
    "x = loans_ind.drop('loan_status', axis = 1)\n",
    "x_list = list(x.columns)"
   ]
  },
  {
   "cell_type": "code",
   "execution_count": 56,
   "metadata": {},
   "outputs": [],
   "source": [
    "numeric_transformer_0 = Pipeline(steps = [\n",
    "    ('imputer_0', SimpleImputer(strategy = 'constant')),\n",
    "    ('escalar', StandardScaler())\n",
    "])\n",
    "\n",
    "numeric_transformer_median = Pipeline(steps = [\n",
    "    ('imputer_median', SimpleImputer(strategy = 'median')),\n",
    "    ('escalar1', StandardScaler())\n",
    "])\n",
    "\n",
    "categoric_transformer  = Pipeline(steps = [\n",
    "    ('imputer', SimpleImputer(strategy = 'constant', fill_value = 'sin_info')),\n",
    "    ('onehot', OneHotEncoder(handle_unknown = 'ignore')) # mirar esto de handle_unknowns\n",
    "])"
   ]
  },
  {
   "cell_type": "code",
   "execution_count": 57,
   "metadata": {},
   "outputs": [],
   "source": [
    "numeric_features_0 = x.loc[:, ['bc_open_to_buy', 'mths_since_recent_bc', 'revol_util', 'emp_length', 'term', 'installment', 'annual_inc', 'inq_last_6mths',\n",
    "                                      'mths_since_last_delinq', 'open_acc', 'revol_bal', 'total_acc', 'tot_cur_bal', 'acc_open_past_24mths',\n",
    "                                       'mo_sin_old_il_acct', 'mo_sin_old_rev_tl_op',\n",
    "                                      'mo_sin_rcnt_rev_tl_op', 'mo_sin_rcnt_tl', 'mort_acc', 'mths_since_recent_inq', 'num_actv_rev_tl',\n",
    "                                       'num_sats', 'num_tl_op_past_12m', 'pct_tl_nvr_dlq', 'pub_rec_bankruptcies', 'tot_hi_cred_lim',\n",
    "                                      'total_bal_ex_mort', 'total_bc_limit', 'total_il_high_credit_limit', 'fico_avg']].columns\n",
    "\n",
    "numeric_features_median = x.loc[:, ['percent_bc_gt_75',\n",
    "                                            'bc_util',\n",
    "                                            'avg_cur_bal',\n",
    "                                            'num_rev_accts',\n",
    "                                            'dti']].columns\n",
    "\n",
    "\n",
    "categoric_features = x.select_dtypes(include = ['object']).columns"
   ]
  },
  {
   "cell_type": "code",
   "execution_count": 58,
   "metadata": {},
   "outputs": [],
   "source": [
    "preprocessor = ColumnTransformer(\n",
    "        transformers = [\n",
    "            ('num_0', numeric_transformer_0, numeric_features_0),\n",
    "            ('num_median', numeric_transformer_median, numeric_features_median),\n",
    "            ('cat', categoric_transformer, categoric_features)\n",
    "        ]\n",
    ")"
   ]
  },
  {
   "cell_type": "code",
   "execution_count": 59,
   "metadata": {},
   "outputs": [],
   "source": [
    "from sklearn.model_selection import train_test_split\n",
    "\n",
    "train_x, test_x, train_y, test_y = train_test_split(x,\n",
    "                                                    y,\n",
    "                                                    test_size = 0.25,\n",
    "                                                    random_state = 42)\n"
   ]
  },
  {
   "cell_type": "code",
   "execution_count": 60,
   "metadata": {},
   "outputs": [
    {
     "data": {
      "text/plain": [
       "1.0    85984\n",
       "0.0    29152\n",
       "Name: loan_status, dtype: int64"
      ]
     },
     "execution_count": 60,
     "metadata": {},
     "output_type": "execute_result"
    }
   ],
   "source": [
    "test_y.value_counts()"
   ]
  },
  {
   "cell_type": "code",
   "execution_count": 10,
   "metadata": {},
   "outputs": [],
   "source": [
    "linreg = Pipeline(steps=[('preprocessor', preprocessor),\n",
    "                     ('classifier', LogisticRegression())\n",
    "                    ])"
   ]
  },
  {
   "cell_type": "code",
   "execution_count": 11,
   "metadata": {},
   "outputs": [
    {
     "name": "stderr",
     "output_type": "stream",
     "text": [
      "C:\\Users\\Pablo\\anaconda3\\envs\\loan_env\\lib\\site-packages\\sklearn\\linear_model\\_logistic.py:764: ConvergenceWarning: lbfgs failed to converge (status=1):\n",
      "STOP: TOTAL NO. of ITERATIONS REACHED LIMIT.\n",
      "\n",
      "Increase the number of iterations (max_iter) or scale the data as shown in:\n",
      "    https://scikit-learn.org/stable/modules/preprocessing.html\n",
      "Please also refer to the documentation for alternative solver options:\n",
      "    https://scikit-learn.org/stable/modules/linear_model.html#logistic-regression\n",
      "  extra_warning_msg=_LOGISTIC_SOLVER_CONVERGENCE_MSG)\n"
     ]
    },
    {
     "name": "stdout",
     "output_type": "stream",
     "text": [
      "Wall time: 13.5 s\n"
     ]
    },
    {
     "data": {
      "text/plain": [
       "Pipeline(steps=[('preprocessor',\n",
       "                 ColumnTransformer(transformers=[('num_0',\n",
       "                                                  Pipeline(steps=[('imputer_0',\n",
       "                                                                   SimpleImputer(strategy='constant')),\n",
       "                                                                  ('escalar',\n",
       "                                                                   StandardScaler())]),\n",
       "                                                  Index(['bc_open_to_buy', 'mths_since_recent_bc', 'revol_util', 'emp_length',\n",
       "       'term', 'installment', 'annual_inc', 'inq_last_6mths',\n",
       "       'mths_since_last_delinq', 'open_acc', 'revol_bal', 'total_ac...\n",
       "                                                  Index(['percent_bc_gt_75', 'bc_util', 'avg_cur_bal', 'num_rev_accts', 'dti'], dtype='object')),\n",
       "                                                 ('cat',\n",
       "                                                  Pipeline(steps=[('imputer',\n",
       "                                                                   SimpleImputer(fill_value='sin_info',\n",
       "                                                                                 strategy='constant')),\n",
       "                                                                  ('onehot',\n",
       "                                                                   OneHotEncoder(handle_unknown='ignore'))]),\n",
       "                                                  Index(['grade', 'home_ownership', 'verification_status', 'purpose', 'title',\n",
       "       'addr_state', 'earliest_cr_line', 'initial_list_status',\n",
       "       'application_type'],\n",
       "      dtype='object'))])),\n",
       "                ('classifier', LogisticRegression())])"
      ]
     },
     "execution_count": 11,
     "metadata": {},
     "output_type": "execute_result"
    }
   ],
   "source": [
    "%%time\n",
    "\n",
    "linreg.fit(train_x, train_y)"
   ]
  },
  {
   "cell_type": "code",
   "execution_count": 12,
   "metadata": {},
   "outputs": [
    {
     "name": "stdout",
     "output_type": "stream",
     "text": [
      "model score: 0.760\n"
     ]
    }
   ],
   "source": [
    "print(\"model score: %.3f\" % linreg.score(test_x, test_y))"
   ]
  },
  {
   "cell_type": "code",
   "execution_count": 61,
   "metadata": {},
   "outputs": [],
   "source": [
    "pred_y = linreg.predict(test_x)"
   ]
  },
  {
   "cell_type": "code",
   "execution_count": null,
   "metadata": {},
   "outputs": [],
   "source": [
    "filename = 'model_linear_reg_1.sav'"
   ]
  },
  {
   "cell_type": "code",
   "execution_count": null,
   "metadata": {},
   "outputs": [],
   "source": [
    "pickle.dump(linreg, open(filename, 'wb'))"
   ]
  },
  {
   "cell_type": "code",
   "execution_count": 28,
   "metadata": {},
   "outputs": [],
   "source": [
    "linreg =  pickle.load(open('../modelos/model_linear_reg_1.sav', 'rb'))"
   ]
  },
  {
   "cell_type": "markdown",
   "metadata": {},
   "source": [
    "# Análisis del modelo"
   ]
  },
  {
   "cell_type": "code",
   "execution_count": 22,
   "metadata": {
    "scrolled": true
   },
   "outputs": [
    {
     "name": "stdout",
     "output_type": "stream",
     "text": [
      "              precision    recall  f1-score   support\n",
      "\n",
      "         0.0       0.58      0.19      0.28     29152\n",
      "         1.0       0.78      0.95      0.86     85984\n",
      "\n",
      "    accuracy                           0.76    115136\n",
      "   macro avg       0.68      0.57      0.57    115136\n",
      "weighted avg       0.73      0.76      0.71    115136\n",
      "\n"
     ]
    }
   ],
   "source": [
    "print(classification_report(test_y, pred_y))"
   ]
  },
  {
   "cell_type": "markdown",
   "metadata": {},
   "source": [
    "## Confusión matrix"
   ]
  },
  {
   "cell_type": "code",
   "execution_count": 53,
   "metadata": {
    "scrolled": true
   },
   "outputs": [
    {
     "data": {
      "text/plain": [
       "<sklearn.metrics._plot.confusion_matrix.ConfusionMatrixDisplay at 0x1c8ee6bf1c8>"
      ]
     },
     "execution_count": 53,
     "metadata": {},
     "output_type": "execute_result"
    },
    {
     "data": {
      "image/png": "[encoded data removed]",
      "text/plain": [
       "<Figure size 432x288 with 2 Axes>"
      ]
     },
     "metadata": {
      "needs_background": "light"
     },
     "output_type": "display_data"
    }
   ],
   "source": [
    "confusion_matrix = confusion_matrix(test_y, pred_y)\n",
    "ConfusionMatrixDisplay(confusion_matrix).plot()"
   ]
  },
  {
   "cell_type": "code",
   "execution_count": 26,
   "metadata": {
    "scrolled": true
   },
   "outputs": [
    {
     "data": {
      "text/plain": [
       "<sklearn.metrics._plot.confusion_matrix.ConfusionMatrixDisplay at 0x1c8c73681c8>"
      ]
     },
     "execution_count": 26,
     "metadata": {},
     "output_type": "execute_result"
    },
    {
     "data": {
      "image/png": "[encoded data removed]",
      "text/plain": [
       "<Figure size 432x288 with 2 Axes>"
      ]
     },
     "metadata": {
      "needs_background": "light"
     },
     "output_type": "display_data"
    }
   ],
   "source": [
    "ConfusionMatrixDisplay(confusion_matrix/np.sum(confusion_matrix)).plot()"
   ]
  },
  {
   "cell_type": "markdown",
   "metadata": {},
   "source": [
    "## Curva ROC"
   ]
  },
  {
   "cell_type": "code",
   "execution_count": 36,
   "metadata": {},
   "outputs": [
    {
     "data": {
      "text/plain": [
       "[<matplotlib.lines.Line2D at 0x1c8c7390808>]"
      ]
     },
     "execution_count": 36,
     "metadata": {},
     "output_type": "execute_result"
    },
    {
     "data": {
      "image/png": "[encoded data removed]",
      "text/plain": [
       "<Figure size 432x288 with 1 Axes>"
      ]
     },
     "metadata": {
      "needs_background": "light"
     },
     "output_type": "display_data"
    }
   ],
   "source": [
    "metrics.plot_roc_curve(linreg, test_x, test_y)\n",
    "plt.plot([0, 1], [0, 1], 'r--')"
   ]
  },
  {
   "cell_type": "markdown",
   "metadata": {},
   "source": [
    "## Precision Recall"
   ]
  },
  {
   "cell_type": "code",
   "execution_count": 37,
   "metadata": {},
   "outputs": [
    {
     "name": "stdout",
     "output_type": "stream",
     "text": [
      "------------ Results for XGBClassifier ---------------\n",
      "recall_score: 0.9539332899144026\n",
      "roc_auc_score: 0.5701334945730081\n",
      "Area Under P-R Curve:  0.8820093171118548\n"
     ]
    }
   ],
   "source": [
    "precision, recall, thresholds = precision_recall_curve(test_y, pred_y)\n",
    "\n",
    "area = auc(recall, precision)\n",
    "\n",
    "print('------------ Results for XGBClassifier ---------------')\n",
    "print('recall_score:', recall_score(test_y, pred_y))\n",
    "print('roc_auc_score:',roc_auc_score(test_y, pred_y))\n",
    "print(\"Area Under P-R Curve: \",area)"
   ]
  },
  {
   "cell_type": "code",
   "execution_count": 52,
   "metadata": {
    "scrolled": false
   },
   "outputs": [
    {
     "data": {
      "image/png": "[encoded data removed]",
      "text/plain": [
       "<Figure size 1080x648 with 1 Axes>"
      ]
     },
     "metadata": {
      "needs_background": "light"
     },
     "output_type": "display_data"
    }
   ],
   "source": [
    "# predict probabilities\n",
    "yhat = linreg.predict_proba(test_x)\n",
    "# retrieve just the probabilities for the positive class\n",
    "pos_probs = yhat[:, 1]\n",
    "# calculate the no skill line as the proportion of the positive class\n",
    "no_skill = len(y[y==1]) / len(y)\n",
    "# plot the no skill precision-recall curve\n",
    "plt.figure(figsize=(15,9))\n",
    "plt.plot([0, 1], [no_skill, no_skill], linestyle='--', label='No Skill')\n",
    "# calculate model precision-recall curve\n",
    "precision, recall, _ = precision_recall_curve(test_y, pos_probs)\n",
    "# plot the model precision-recall curve\n",
    "plt.plot(recall, precision, marker='.', label='XGBOOST')\n",
    "# axis labels\n",
    "plt.xlabel('Recall')\n",
    "plt.ylabel('Precision')\n",
    "# show the legend\n",
    "plt.legend()\n",
    "# show the plot\n",
    "plt.show()\n",
    "\n",
    "# https://machinelearningmastery.com/roc-curves-and-precision-recall-curves-for-imbalanced-classification/"
   ]
  },
  {
   "cell_type": "markdown",
   "metadata": {},
   "source": [
    "Se observa que el recall aumenta en gran medida cuando disminuye en menor proporción la precisión del modelo, de todos modos, al principio, cuando disminuye la precisión el recall no mejora. Esto indica que el modelo actua de forma adecuada sobre la característica primordial del modelo, que en este caso es la de entregar el crédito, por lo que es de esperar buenos resultados para la misma."
   ]
  },
  {
   "cell_type": "markdown",
   "metadata": {},
   "source": [
    "## Gain Curve"
   ]
  },
  {
   "cell_type": "code",
   "execution_count": 42,
   "metadata": {},
   "outputs": [
    {
     "data": {
      "image/png": "[encoded data removed]",
      "text/plain": [
       "<Figure size 432x288 with 1 Axes>"
      ]
     },
     "metadata": {
      "needs_background": "light"
     },
     "output_type": "display_data"
    }
   ],
   "source": [
    "predicted_probabilities = linreg.predict_proba(test_x)\n",
    "skplt.metrics.plot_cumulative_gain(test_y, predicted_probabilities)\n",
    "plt.show()"
   ]
  },
  {
   "cell_type": "markdown",
   "metadata": {},
   "source": [
    "# Modelo joint loans"
   ]
  },
  {
   "cell_type": "code",
   "execution_count": 2,
   "metadata": {},
   "outputs": [],
   "source": [
    "pathfile1 = '../data/loans_joint_clean.csv'"
   ]
  },
  {
   "cell_type": "code",
   "execution_count": 3,
   "metadata": {},
   "outputs": [
    {
     "data": {
      "text/html": [
       "<div>\n",
       "<style scoped>\n",
       "    .dataframe tbody tr th:only-of-type {\n",
       "        vertical-align: middle;\n",
       "    }\n",
       "\n",
       "    .dataframe tbody tr th {\n",
       "        vertical-align: top;\n",
       "    }\n",
       "\n",
       "    .dataframe thead th {\n",
       "        text-align: right;\n",
       "    }\n",
       "</style>\n",
       "<table border=\"1\" class=\"dataframe\">\n",
       "  <thead>\n",
       "    <tr style=\"text-align: right;\">\n",
       "      <th></th>\n",
       "      <th>Unnamed: 0</th>\n",
       "      <th>term</th>\n",
       "      <th>installment</th>\n",
       "      <th>grade</th>\n",
       "      <th>emp_length</th>\n",
       "      <th>home_ownership</th>\n",
       "      <th>annual_inc</th>\n",
       "      <th>verification_status</th>\n",
       "      <th>loan_status</th>\n",
       "      <th>purpose</th>\n",
       "      <th>...</th>\n",
       "      <th>sec_app_earliest_cr_line</th>\n",
       "      <th>sec_app_inq_last_6mths</th>\n",
       "      <th>sec_app_mort_acc</th>\n",
       "      <th>sec_app_open_acc</th>\n",
       "      <th>sec_app_revol_util</th>\n",
       "      <th>sec_app_open_act_il</th>\n",
       "      <th>sec_app_num_rev_accts</th>\n",
       "      <th>sec_app_chargeoff_within_12_mths</th>\n",
       "      <th>sec_app_collections_12_mths_ex_med</th>\n",
       "      <th>fico_avg</th>\n",
       "    </tr>\n",
       "  </thead>\n",
       "  <tbody>\n",
       "    <tr>\n",
       "      <th>0</th>\n",
       "      <td>0</td>\n",
       "      <td>36.0</td>\n",
       "      <td>486.98</td>\n",
       "      <td>B</td>\n",
       "      <td>3.0</td>\n",
       "      <td>MORTGAGE</td>\n",
       "      <td>115000.0</td>\n",
       "      <td>Not Verified</td>\n",
       "      <td>1.0</td>\n",
       "      <td>car</td>\n",
       "      <td>...</td>\n",
       "      <td>Jul-1995</td>\n",
       "      <td>0.0</td>\n",
       "      <td>2.0</td>\n",
       "      <td>8.0</td>\n",
       "      <td>7.7</td>\n",
       "      <td>0.0</td>\n",
       "      <td>27.0</td>\n",
       "      <td>0.0</td>\n",
       "      <td>0.0</td>\n",
       "      <td>682.0</td>\n",
       "    </tr>\n",
       "    <tr>\n",
       "      <th>1</th>\n",
       "      <td>1</td>\n",
       "      <td>36.0</td>\n",
       "      <td>112.83</td>\n",
       "      <td>B</td>\n",
       "      <td>3.0</td>\n",
       "      <td>MORTGAGE</td>\n",
       "      <td>40000.0</td>\n",
       "      <td>Verified</td>\n",
       "      <td>1.0</td>\n",
       "      <td>debt_consolidation</td>\n",
       "      <td>...</td>\n",
       "      <td>Jan-2007</td>\n",
       "      <td>0.0</td>\n",
       "      <td>2.0</td>\n",
       "      <td>18.0</td>\n",
       "      <td>50.0</td>\n",
       "      <td>3.0</td>\n",
       "      <td>20.0</td>\n",
       "      <td>0.0</td>\n",
       "      <td>0.0</td>\n",
       "      <td>672.0</td>\n",
       "    </tr>\n",
       "    <tr>\n",
       "      <th>2</th>\n",
       "      <td>2</td>\n",
       "      <td>36.0</td>\n",
       "      <td>285.70</td>\n",
       "      <td>E</td>\n",
       "      <td>1.0</td>\n",
       "      <td>RENT</td>\n",
       "      <td>24000.0</td>\n",
       "      <td>Not Verified</td>\n",
       "      <td>0.0</td>\n",
       "      <td>other</td>\n",
       "      <td>...</td>\n",
       "      <td>Sep-2005</td>\n",
       "      <td>0.0</td>\n",
       "      <td>0.0</td>\n",
       "      <td>23.0</td>\n",
       "      <td>NaN</td>\n",
       "      <td>23.0</td>\n",
       "      <td>2.0</td>\n",
       "      <td>1.0</td>\n",
       "      <td>3.0</td>\n",
       "      <td>662.0</td>\n",
       "    </tr>\n",
       "    <tr>\n",
       "      <th>3</th>\n",
       "      <td>3</td>\n",
       "      <td>60.0</td>\n",
       "      <td>437.92</td>\n",
       "      <td>C</td>\n",
       "      <td>5.0</td>\n",
       "      <td>MORTGAGE</td>\n",
       "      <td>55000.0</td>\n",
       "      <td>Source Verified</td>\n",
       "      <td>1.0</td>\n",
       "      <td>home_improvement</td>\n",
       "      <td>...</td>\n",
       "      <td>Jun-2006</td>\n",
       "      <td>2.0</td>\n",
       "      <td>3.0</td>\n",
       "      <td>23.0</td>\n",
       "      <td>42.1</td>\n",
       "      <td>13.0</td>\n",
       "      <td>13.0</td>\n",
       "      <td>0.0</td>\n",
       "      <td>2.0</td>\n",
       "      <td>697.0</td>\n",
       "    </tr>\n",
       "    <tr>\n",
       "      <th>4</th>\n",
       "      <td>4</td>\n",
       "      <td>36.0</td>\n",
       "      <td>817.41</td>\n",
       "      <td>B</td>\n",
       "      <td>NaN</td>\n",
       "      <td>MORTGAGE</td>\n",
       "      <td>32000.0</td>\n",
       "      <td>Verified</td>\n",
       "      <td>0.0</td>\n",
       "      <td>credit_card</td>\n",
       "      <td>...</td>\n",
       "      <td>Oct-1997</td>\n",
       "      <td>0.0</td>\n",
       "      <td>2.0</td>\n",
       "      <td>14.0</td>\n",
       "      <td>76.1</td>\n",
       "      <td>2.0</td>\n",
       "      <td>24.0</td>\n",
       "      <td>0.0</td>\n",
       "      <td>0.0</td>\n",
       "      <td>692.0</td>\n",
       "    </tr>\n",
       "  </tbody>\n",
       "</table>\n",
       "<p>5 rows × 86 columns</p>\n",
       "</div>"
      ],
      "text/plain": [
       "   Unnamed: 0  term  installment grade  emp_length home_ownership  annual_inc  \\\n",
       "0           0  36.0       486.98     B         3.0       MORTGAGE    115000.0   \n",
       "1           1  36.0       112.83     B         3.0       MORTGAGE     40000.0   \n",
       "2           2  36.0       285.70     E         1.0           RENT     24000.0   \n",
       "3           3  60.0       437.92     C         5.0       MORTGAGE     55000.0   \n",
       "4           4  36.0       817.41     B         NaN       MORTGAGE     32000.0   \n",
       "\n",
       "  verification_status  loan_status             purpose  ...  \\\n",
       "0        Not Verified          1.0                 car  ...   \n",
       "1            Verified          1.0  debt_consolidation  ...   \n",
       "2        Not Verified          0.0               other  ...   \n",
       "3     Source Verified          1.0    home_improvement  ...   \n",
       "4            Verified          0.0         credit_card  ...   \n",
       "\n",
       "  sec_app_earliest_cr_line sec_app_inq_last_6mths  sec_app_mort_acc  \\\n",
       "0                 Jul-1995                    0.0               2.0   \n",
       "1                 Jan-2007                    0.0               2.0   \n",
       "2                 Sep-2005                    0.0               0.0   \n",
       "3                 Jun-2006                    2.0               3.0   \n",
       "4                 Oct-1997                    0.0               2.0   \n",
       "\n",
       "   sec_app_open_acc sec_app_revol_util  sec_app_open_act_il  \\\n",
       "0               8.0                7.7                  0.0   \n",
       "1              18.0               50.0                  3.0   \n",
       "2              23.0                NaN                 23.0   \n",
       "3              23.0               42.1                 13.0   \n",
       "4              14.0               76.1                  2.0   \n",
       "\n",
       "   sec_app_num_rev_accts  sec_app_chargeoff_within_12_mths  \\\n",
       "0                   27.0                               0.0   \n",
       "1                   20.0                               0.0   \n",
       "2                    2.0                               1.0   \n",
       "3                   13.0                               0.0   \n",
       "4                   24.0                               0.0   \n",
       "\n",
       "   sec_app_collections_12_mths_ex_med  fico_avg  \n",
       "0                                 0.0     682.0  \n",
       "1                                 0.0     672.0  \n",
       "2                                 3.0     662.0  \n",
       "3                                 2.0     697.0  \n",
       "4                                 0.0     692.0  \n",
       "\n",
       "[5 rows x 86 columns]"
      ]
     },
     "execution_count": 3,
     "metadata": {},
     "output_type": "execute_result"
    }
   ],
   "source": [
    "loans_joint = pd.read_csv(pathfile1, engine = 'python')\n",
    "loans_joint.head()"
   ]
  },
  {
   "cell_type": "code",
   "execution_count": 4,
   "metadata": {},
   "outputs": [],
   "source": [
    "y_joint = loans_joint['loan_status']\n",
    "x_joint = loans_joint.drop('loan_status', axis = 1)"
   ]
  },
  {
   "cell_type": "code",
   "execution_count": 6,
   "metadata": {},
   "outputs": [],
   "source": [
    "numeric_transformer_0_joint = Pipeline(steps = [\n",
    "    ('imputer_0_joint', SimpleImputer(strategy = 'constant')),\n",
    "    ('escalar_joint', StandardScaler())\n",
    "])\n",
    "\n",
    "\n",
    "categoric_transformer_joint  = Pipeline(steps = [\n",
    "    ('imputer_joint', SimpleImputer(strategy = 'constant', fill_value = 'sin_info')),\n",
    "    ('onehot_joint', OneHotEncoder(handle_unknown = 'ignore')) # mirar esto de handle_unknowns\n",
    "])"
   ]
  },
  {
   "cell_type": "code",
   "execution_count": 8,
   "metadata": {},
   "outputs": [],
   "source": [
    "numeric_features_0_joint = x_joint.select_dtypes(include=['int64', 'float64']).columns\n",
    "\n",
    "categoric_features_joint = x_joint.select_dtypes(include = ['object']).columns"
   ]
  },
  {
   "cell_type": "code",
   "execution_count": 9,
   "metadata": {},
   "outputs": [],
   "source": [
    "preprocessor_joint = ColumnTransformer(\n",
    "        transformers = [\n",
    "            ('num_0_joint', numeric_transformer_0_joint, numeric_features_0_joint),\n",
    "            ('cat_joint', categoric_transformer_joint, categoric_features_joint)\n",
    "        ]\n",
    ")"
   ]
  },
  {
   "cell_type": "code",
   "execution_count": 10,
   "metadata": {},
   "outputs": [],
   "source": [
    "from sklearn.model_selection import train_test_split\n",
    "\n",
    "train_x_joint, test_x_joint, train_y_joint, test_y_joint = train_test_split(x_joint,\n",
    "                                                    y_joint,\n",
    "                                                    test_size = 0.25,\n",
    "                                                    random_state = 42)\n"
   ]
  },
  {
   "cell_type": "code",
   "execution_count": 11,
   "metadata": {},
   "outputs": [
    {
     "data": {
      "text/plain": [
       "1.0    225\n",
       "0.0    188\n",
       "Name: loan_status, dtype: int64"
      ]
     },
     "execution_count": 11,
     "metadata": {},
     "output_type": "execute_result"
    }
   ],
   "source": [
    "test_y_joint.value_counts()"
   ]
  },
  {
   "cell_type": "code",
   "execution_count": 12,
   "metadata": {},
   "outputs": [],
   "source": [
    "linreg_joint = Pipeline(steps=[('preprocessor_joint', preprocessor_joint),\n",
    "                     ('classifier_joint', LogisticRegression())\n",
    "                    ])"
   ]
  },
  {
   "cell_type": "code",
   "execution_count": 13,
   "metadata": {},
   "outputs": [
    {
     "name": "stderr",
     "output_type": "stream",
     "text": [
      "C:\\Users\\Pablo\\anaconda3\\envs\\loan_env\\lib\\site-packages\\sklearn\\linear_model\\_logistic.py:764: ConvergenceWarning: lbfgs failed to converge (status=1):\n",
      "STOP: TOTAL NO. of ITERATIONS REACHED LIMIT.\n",
      "\n",
      "Increase the number of iterations (max_iter) or scale the data as shown in:\n",
      "    https://scikit-learn.org/stable/modules/preprocessing.html\n",
      "Please also refer to the documentation for alternative solver options:\n",
      "    https://scikit-learn.org/stable/modules/linear_model.html#logistic-regression\n",
      "  extra_warning_msg=_LOGISTIC_SOLVER_CONVERGENCE_MSG)\n"
     ]
    },
    {
     "name": "stdout",
     "output_type": "stream",
     "text": [
      "Wall time: 190 ms\n"
     ]
    },
    {
     "data": {
      "text/plain": [
       "Pipeline(steps=[('preprocessor_joint',\n",
       "                 ColumnTransformer(transformers=[('num_0_joint',\n",
       "                                                  Pipeline(steps=[('imputer_0_joint',\n",
       "                                                                   SimpleImputer(strategy='constant')),\n",
       "                                                                  ('escalar_joint',\n",
       "                                                                   StandardScaler())]),\n",
       "                                                  Index(['Unnamed: 0', 'term', 'installment', 'emp_length', 'annual_inc', 'dti',\n",
       "       'delinq_2yrs', 'inq_last_6mths', 'mths_since_last_delinq', 'open_acc',\n",
       "       'pub_rec', 'revol_b...\n",
       "                                                                   SimpleImputer(fill_value='sin_info',\n",
       "                                                                                 strategy='constant')),\n",
       "                                                                  ('onehot_joint',\n",
       "                                                                   OneHotEncoder(handle_unknown='ignore'))]),\n",
       "                                                  Index(['grade', 'home_ownership', 'verification_status', 'purpose', 'title',\n",
       "       'addr_state', 'earliest_cr_line', 'initial_list_status',\n",
       "       'application_type', 'verification_status_joint',\n",
       "       'sec_app_earliest_cr_line'],\n",
       "      dtype='object'))])),\n",
       "                ('classifier_joint', LogisticRegression())])"
      ]
     },
     "execution_count": 13,
     "metadata": {},
     "output_type": "execute_result"
    }
   ],
   "source": [
    "%%time\n",
    "\n",
    "linreg_joint.fit(train_x_joint, train_y_joint)"
   ]
  },
  {
   "cell_type": "code",
   "execution_count": 14,
   "metadata": {},
   "outputs": [
    {
     "name": "stdout",
     "output_type": "stream",
     "text": [
      "model score: 0.603\n"
     ]
    }
   ],
   "source": [
    "print(\"model score: %.3f\" % linreg_joint.score(test_x_joint, test_y_joint))"
   ]
  },
  {
   "cell_type": "code",
   "execution_count": 15,
   "metadata": {},
   "outputs": [],
   "source": [
    "filename_joint = 'model_linear_reg_1_joint.sav'"
   ]
  },
  {
   "cell_type": "code",
   "execution_count": 17,
   "metadata": {},
   "outputs": [],
   "source": [
    "pickle.dump(linreg_joint, open(filename_joint, 'wb'))"
   ]
  }
 ],
 "metadata": {
  "kernelspec": {
   "display_name": "loan_env",
   "language": "python",
   "name": "loan_env"
  },
  "language_info": {
   "codemirror_mode": {
    "name": "ipython",
    "version": 3
   },
   "file_extension": ".py",
   "mimetype": "text/x-python",
   "name": "python",
   "nbconvert_exporter": "python",
   "pygments_lexer": "ipython3",
   "version": "3.7.8"
  }
 },
 "nbformat": 4,
 "nbformat_minor": 4
}
